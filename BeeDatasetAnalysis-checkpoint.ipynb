{
 "cells": [
  {
   "cell_type": "markdown",
   "metadata": {
    "slideshow": {
     "slide_type": "slide"
    }
   },
   "source": [
    "# Metacritic_Critic_Reviews"
   ]
  },
  {
   "cell_type": "code",
   "execution_count": 4,
   "metadata": {
    "slideshow": {
     "slide_type": "slide"
    }
   },
   "outputs": [],
   "source": [
    "import matplotlib\n",
    "import matplotlib.pyplot as plt\n",
    "import numpy as np\n",
    "import pandas as pd\n",
    "import os"
   ]
  },
  {
   "cell_type": "markdown",
   "metadata": {
    "slideshow": {
     "slide_type": "notes"
    }
   },
   "source": [
    "Set default figuresize and font value"
   ]
  },
  {
   "cell_type": "code",
   "execution_count": 5,
   "metadata": {
    "slideshow": {
     "slide_type": "fragment"
    }
   },
   "outputs": [],
   "source": [
    "%matplotlib inline\n",
    "plt.rcParams['figure.figsize'] = (10, 5)\n",
    "\n",
    "font = {'family' : 'monospace',\n",
    "        'weight' : 'bold',\n",
    "        'size'   : 13}\n",
    "matplotlib.rc('font', **font)"
   ]
  },
  {
   "cell_type": "markdown",
   "metadata": {
    "slideshow": {
     "slide_type": "slide"
    }
   },
   "source": [
    "### Reading the Data"
   ]
  },
  {
   "cell_type": "code",
   "execution_count": 10,
   "metadata": {},
   "outputs": [
    {
     "data": {
      "text/html": [
       "<div>\n",
       "<style scoped>\n",
       "    .dataframe tbody tr th:only-of-type {\n",
       "        vertical-align: middle;\n",
       "    }\n",
       "\n",
       "    .dataframe tbody tr th {\n",
       "        vertical-align: top;\n",
       "    }\n",
       "\n",
       "    .dataframe thead th {\n",
       "        text-align: right;\n",
       "    }\n",
       "</style>\n",
       "<table border=\"1\" class=\"dataframe\">\n",
       "  <thead>\n",
       "    <tr style=\"text-align: right;\">\n",
       "      <th></th>\n",
       "      <th>name</th>\n",
       "      <th>review</th>\n",
       "      <th>game</th>\n",
       "      <th>platform</th>\n",
       "      <th>score</th>\n",
       "      <th>date</th>\n",
       "    </tr>\n",
       "  </thead>\n",
       "  <tbody>\n",
       "    <tr>\n",
       "      <th>0</th>\n",
       "      <td>LEVEL (Czech Republic)</td>\n",
       "      <td>Portal 2 is a masterpiece, a work of art that ...</td>\n",
       "      <td>Portal 2</td>\n",
       "      <td>PC</td>\n",
       "      <td>100.0</td>\n",
       "      <td>May 25, 2011</td>\n",
       "    </tr>\n",
       "    <tr>\n",
       "      <th>1</th>\n",
       "      <td>GameCritics</td>\n",
       "      <td>So do we need Portal 2? Do I need it? Maybe no...</td>\n",
       "      <td>Portal 2</td>\n",
       "      <td>PC</td>\n",
       "      <td>100.0</td>\n",
       "      <td>May  8, 2011</td>\n",
       "    </tr>\n",
       "    <tr>\n",
       "      <th>2</th>\n",
       "      <td>PC Games (Russia)</td>\n",
       "      <td>Portal 2 exceeds every expectation. It has a s...</td>\n",
       "      <td>Portal 2</td>\n",
       "      <td>PC</td>\n",
       "      <td>100.0</td>\n",
       "      <td>May  6, 2011</td>\n",
       "    </tr>\n",
       "    <tr>\n",
       "      <th>3</th>\n",
       "      <td>Adventure Gamers</td>\n",
       "      <td>Like its predecessor, Portal 2 is not an adven...</td>\n",
       "      <td>Portal 2</td>\n",
       "      <td>PC</td>\n",
       "      <td>100.0</td>\n",
       "      <td>Apr 29, 2011</td>\n",
       "    </tr>\n",
       "    <tr>\n",
       "      <th>4</th>\n",
       "      <td>Armchair Empire</td>\n",
       "      <td>Pile on the \"Oh, yes!\" moments of solving some...</td>\n",
       "      <td>Portal 2</td>\n",
       "      <td>PC</td>\n",
       "      <td>100.0</td>\n",
       "      <td>Apr 28, 2011</td>\n",
       "    </tr>\n",
       "    <tr>\n",
       "      <th>5</th>\n",
       "      <td>Game Revolution</td>\n",
       "      <td>Impatience aside, Portal 2 is an exceptionally...</td>\n",
       "      <td>Portal 2</td>\n",
       "      <td>PC</td>\n",
       "      <td>100.0</td>\n",
       "      <td>Apr 22, 2011</td>\n",
       "    </tr>\n",
       "    <tr>\n",
       "      <th>6</th>\n",
       "      <td>GameSpy</td>\n",
       "      <td>Sporting some of the best writing and voice wo...</td>\n",
       "      <td>Portal 2</td>\n",
       "      <td>PC</td>\n",
       "      <td>100.0</td>\n",
       "      <td>Apr 22, 2011</td>\n",
       "    </tr>\n",
       "    <tr>\n",
       "      <th>7</th>\n",
       "      <td>DarkZero</td>\n",
       "      <td>In conclusion, Portal 2 is a textbook example ...</td>\n",
       "      <td>Portal 2</td>\n",
       "      <td>PC</td>\n",
       "      <td>100.0</td>\n",
       "      <td>Apr 21, 2011</td>\n",
       "    </tr>\n",
       "    <tr>\n",
       "      <th>8</th>\n",
       "      <td>GamesRadar+</td>\n",
       "      <td>Portal 2 couldn't be Portal, but it's the next...</td>\n",
       "      <td>Portal 2</td>\n",
       "      <td>PC</td>\n",
       "      <td>100.0</td>\n",
       "      <td>Apr 21, 2011</td>\n",
       "    </tr>\n",
       "    <tr>\n",
       "      <th>9</th>\n",
       "      <td>Destructoid</td>\n",
       "      <td>Without a doubt, one of the best games ever ma...</td>\n",
       "      <td>Portal 2</td>\n",
       "      <td>PC</td>\n",
       "      <td>100.0</td>\n",
       "      <td>Apr 21, 2011</td>\n",
       "    </tr>\n",
       "    <tr>\n",
       "      <th>10</th>\n",
       "      <td>AtomicGamer</td>\n",
       "      <td>With this sequel, Valve has ramped up the brai...</td>\n",
       "      <td>Portal 2</td>\n",
       "      <td>PC</td>\n",
       "      <td>100.0</td>\n",
       "      <td>Apr 20, 2011</td>\n",
       "    </tr>\n",
       "    <tr>\n",
       "      <th>11</th>\n",
       "      <td>GameWatcher</td>\n",
       "      <td>Never before has a review embargo had us screa...</td>\n",
       "      <td>Portal 2</td>\n",
       "      <td>PC</td>\n",
       "      <td>100.0</td>\n",
       "      <td>Apr 19, 2011</td>\n",
       "    </tr>\n",
       "    <tr>\n",
       "      <th>12</th>\n",
       "      <td>Eurogamer</td>\n",
       "      <td>Portal is perfect. Portal 2 is not. It's somet...</td>\n",
       "      <td>Portal 2</td>\n",
       "      <td>PC</td>\n",
       "      <td>100.0</td>\n",
       "      <td>Apr 19, 2011</td>\n",
       "    </tr>\n",
       "    <tr>\n",
       "      <th>13</th>\n",
       "      <td>VideoGamer</td>\n",
       "      <td>A mere ten minutes here will yield more memora...</td>\n",
       "      <td>Portal 2</td>\n",
       "      <td>PC</td>\n",
       "      <td>100.0</td>\n",
       "      <td>Apr 19, 2011</td>\n",
       "    </tr>\n",
       "    <tr>\n",
       "      <th>14</th>\n",
       "      <td>Giant Bomb</td>\n",
       "      <td>Despite being so much bigger than the original...</td>\n",
       "      <td>Portal 2</td>\n",
       "      <td>PC</td>\n",
       "      <td>100.0</td>\n",
       "      <td>Apr 19, 2011</td>\n",
       "    </tr>\n",
       "    <tr>\n",
       "      <th>15</th>\n",
       "      <td>Game Chronicles</td>\n",
       "      <td>Portal 2 may be the best game of 2011. It may ...</td>\n",
       "      <td>Portal 2</td>\n",
       "      <td>PC</td>\n",
       "      <td>98.0</td>\n",
       "      <td>May 15, 2011</td>\n",
       "    </tr>\n",
       "    <tr>\n",
       "      <th>16</th>\n",
       "      <td>XGN</td>\n",
       "      <td>Portal 2 is better in every possible way when ...</td>\n",
       "      <td>Portal 2</td>\n",
       "      <td>PC</td>\n",
       "      <td>97.0</td>\n",
       "      <td>Apr 27, 2011</td>\n",
       "    </tr>\n",
       "    <tr>\n",
       "      <th>17</th>\n",
       "      <td>Gaming Target</td>\n",
       "      <td>It's hard to sum up a game like Portal 2. It d...</td>\n",
       "      <td>Portal 2</td>\n",
       "      <td>PC</td>\n",
       "      <td>96.0</td>\n",
       "      <td>May  3, 2011</td>\n",
       "    </tr>\n",
       "    <tr>\n",
       "      <th>18</th>\n",
       "      <td>Vandal</td>\n",
       "      <td>It starts slowly and at first might seem like ...</td>\n",
       "      <td>Portal 2</td>\n",
       "      <td>PC</td>\n",
       "      <td>96.0</td>\n",
       "      <td>Apr 23, 2011</td>\n",
       "    </tr>\n",
       "    <tr>\n",
       "      <th>19</th>\n",
       "      <td>3DJuegos</td>\n",
       "      <td>Portal 2 has an enormous warmth that makes it ...</td>\n",
       "      <td>Portal 2</td>\n",
       "      <td>PC</td>\n",
       "      <td>96.0</td>\n",
       "      <td>Apr 19, 2011</td>\n",
       "    </tr>\n",
       "  </tbody>\n",
       "</table>\n",
       "</div>"
      ],
      "text/plain": [
       "                      name                                             review  \\\n",
       "0   LEVEL (Czech Republic)  Portal 2 is a masterpiece, a work of art that ...   \n",
       "1              GameCritics  So do we need Portal 2? Do I need it? Maybe no...   \n",
       "2        PC Games (Russia)  Portal 2 exceeds every expectation. It has a s...   \n",
       "3         Adventure Gamers  Like its predecessor, Portal 2 is not an adven...   \n",
       "4          Armchair Empire  Pile on the \"Oh, yes!\" moments of solving some...   \n",
       "5          Game Revolution  Impatience aside, Portal 2 is an exceptionally...   \n",
       "6                  GameSpy  Sporting some of the best writing and voice wo...   \n",
       "7                 DarkZero  In conclusion, Portal 2 is a textbook example ...   \n",
       "8              GamesRadar+  Portal 2 couldn't be Portal, but it's the next...   \n",
       "9              Destructoid  Without a doubt, one of the best games ever ma...   \n",
       "10             AtomicGamer  With this sequel, Valve has ramped up the brai...   \n",
       "11             GameWatcher  Never before has a review embargo had us screa...   \n",
       "12               Eurogamer  Portal is perfect. Portal 2 is not. It's somet...   \n",
       "13              VideoGamer  A mere ten minutes here will yield more memora...   \n",
       "14              Giant Bomb  Despite being so much bigger than the original...   \n",
       "15         Game Chronicles  Portal 2 may be the best game of 2011. It may ...   \n",
       "16                     XGN  Portal 2 is better in every possible way when ...   \n",
       "17           Gaming Target  It's hard to sum up a game like Portal 2. It d...   \n",
       "18                  Vandal  It starts slowly and at first might seem like ...   \n",
       "19                3DJuegos  Portal 2 has an enormous warmth that makes it ...   \n",
       "\n",
       "        game platform  score          date  \n",
       "0   Portal 2       PC  100.0  May 25, 2011  \n",
       "1   Portal 2       PC  100.0  May  8, 2011  \n",
       "2   Portal 2       PC  100.0  May  6, 2011  \n",
       "3   Portal 2       PC  100.0  Apr 29, 2011  \n",
       "4   Portal 2       PC  100.0  Apr 28, 2011  \n",
       "5   Portal 2       PC  100.0  Apr 22, 2011  \n",
       "6   Portal 2       PC  100.0  Apr 22, 2011  \n",
       "7   Portal 2       PC  100.0  Apr 21, 2011  \n",
       "8   Portal 2       PC  100.0  Apr 21, 2011  \n",
       "9   Portal 2       PC  100.0  Apr 21, 2011  \n",
       "10  Portal 2       PC  100.0  Apr 20, 2011  \n",
       "11  Portal 2       PC  100.0  Apr 19, 2011  \n",
       "12  Portal 2       PC  100.0  Apr 19, 2011  \n",
       "13  Portal 2       PC  100.0  Apr 19, 2011  \n",
       "14  Portal 2       PC  100.0  Apr 19, 2011  \n",
       "15  Portal 2       PC   98.0  May 15, 2011  \n",
       "16  Portal 2       PC   97.0  Apr 27, 2011  \n",
       "17  Portal 2       PC   96.0  May  3, 2011  \n",
       "18  Portal 2       PC   96.0  Apr 23, 2011  \n",
       "19  Portal 2       PC   96.0  Apr 19, 2011  "
      ]
     },
     "execution_count": 10,
     "metadata": {},
     "output_type": "execute_result"
    }
   ],
   "source": [
    "review_data = pd.read_csv(\"metacritic_critic_reviews.csv\")\n",
    "review_data.iloc[0:20]"
   ]
  },
  {
   "cell_type": "markdown",
   "metadata": {},
   "source": [
    "## Data shape"
   ]
  },
  {
   "cell_type": "code",
   "execution_count": 11,
   "metadata": {},
   "outputs": [
    {
     "name": "stdout",
     "output_type": "stream",
     "text": [
      "There are 125876 rows and 6 columns\n"
     ]
    }
   ],
   "source": [
    "nRow, nCol = review_data.shape\n",
    "print(f'There are {nRow} rows and {nCol} columns')"
   ]
  },
  {
   "cell_type": "markdown",
   "metadata": {},
   "source": [
    "## Drop duplicates"
   ]
  },
  {
   "cell_type": "code",
   "execution_count": 31,
   "metadata": {},
   "outputs": [],
   "source": [
    "len_duplicate = len(review_data.review.unique())\n",
    "review_data = review_data.drop_duplicates()"
   ]
  },
  {
   "cell_type": "markdown",
   "metadata": {},
   "source": [
    "## Platform Distribution graphs "
   ]
  },
  {
   "cell_type": "code",
   "execution_count": 32,
   "metadata": {},
   "outputs": [
    {
     "data": {
      "text/plain": [
       "<matplotlib.axes._subplots.AxesSubplot at 0x1cd095cc080>"
      ]
     },
     "execution_count": 32,
     "metadata": {},
     "output_type": "execute_result"
    },
    {
     "data": {
      "image/png": "[encoded data removed]",
      "text/plain": [
       "<Figure size 720x360 with 1 Axes>"
      ]
     },
     "metadata": {},
     "output_type": "display_data"
    }
   ],
   "source": [
    "review_data['platform'].value_counts().plot(kind='bar')"
   ]
  },
  {
   "cell_type": "markdown",
   "metadata": {},
   "source": [
    "## Game Distribution graphs of head 1000 rows"
   ]
  },
  {
   "cell_type": "code",
   "execution_count": 33,
   "metadata": {},
   "outputs": [
    {
     "data": {
      "text/plain": [
       "<matplotlib.axes._subplots.AxesSubplot at 0x1cd09471550>"
      ]
     },
     "execution_count": 33,
     "metadata": {},
     "output_type": "execute_result"
    },
    {
     "data": {
      "image/png": "[encoded data removed]",
      "text/plain": [
       "<Figure size 720x360 with 1 Axes>"
      ]
     },
     "metadata": {},
     "output_type": "display_data"
    }
   ],
   "source": [
    "review_data.head(1000)['game'].value_counts().plot(kind='bar')"
   ]
  },
  {
   "cell_type": "markdown",
   "metadata": {},
   "source": [
    "## Score Distribution graphs \n"
   ]
  },
  {
   "cell_type": "code",
   "execution_count": 34,
   "metadata": {},
   "outputs": [
    {
     "data": {
      "text/plain": [
       "<matplotlib.axes._subplots.AxesSubplot at 0x1cd0971b710>"
      ]
     },
     "execution_count": 34,
     "metadata": {},
     "output_type": "execute_result"
    },
    {
     "data": {
      "image/png": "[encoded data removed]",
      "text/plain": [
       "<Figure size 720x360 with 1 Axes>"
      ]
     },
     "metadata": {},
     "output_type": "display_data"
    }
   ],
   "source": [
    "review_data['score'].plot(kind='hist')"
   ]
  },
  {
   "cell_type": "markdown",
   "metadata": {},
   "source": [
    "## Mean, Max, Min score"
   ]
  },
  {
   "cell_type": "code",
   "execution_count": 37,
   "metadata": {},
   "outputs": [
    {
     "name": "stdout",
     "output_type": "stream",
     "text": [
      "Mean score is 74.4948146717836\n",
      "Max score is 100.0\n",
      "Min score is 0.0\n"
     ]
    }
   ],
   "source": [
    "score_mean = review_data['score'].mean()\n",
    "score_max = review_data['score'].max()\n",
    "score_min = review_data['score'].min()\n",
    "\n",
    "print(f'Mean score is {score_mean}')\n",
    "print(f'Max score is {score_max}')\n",
    "print(f'Min score is {score_min}')"
   ]
  },
  {
   "cell_type": "code",
   "execution_count": null,
   "metadata": {},
   "outputs": [],
   "source": []
  }
 ],
 "metadata": {
  "celltoolbar": "Slideshow",
  "kernelspec": {
   "display_name": "Python 3",
   "language": "python",
   "name": "python3"
  },
  "language_info": {
   "codemirror_mode": {
    "name": "ipython",
    "version": 3
   },
   "file_extension": ".py",
   "mimetype": "text/x-python",
   "name": "python",
   "nbconvert_exporter": "python",
   "pygments_lexer": "ipython3",
   "version": "3.6.5"
  }
 },
 "nbformat": 4,
 "nbformat_minor": 2
}
